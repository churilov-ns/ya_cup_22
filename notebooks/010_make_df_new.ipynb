{
 "cells": [
  {
   "cell_type": "code",
   "execution_count": null,
   "id": "cccd2c68",
   "metadata": {},
   "outputs": [],
   "source": [
    "import os\n",
    "from ya_cup_2022.df.dto import GeneratorOptions\n",
    "from ya_cup_2022.df import (\n",
    "    DataFrameGenerator, \n",
    "    CSVDataFrameHandler, \n",
    "    FMPSampler,\n",
    ")"
   ]
  },
  {
   "cell_type": "code",
   "execution_count": null,
   "id": "d0012959",
   "metadata": {},
   "outputs": [],
   "source": [
    "ARTISTS_FN = 'track_artists.csv'\n",
    "TRAIN_FN = '_train_300k'\n",
    "TEST_FN = '_test_xxl'\n",
    "FMP_WD = 'xxl'\n",
    "CUTOFF = 200\n",
    "MAX_SKIP = 3\n",
    "N_PREV_LIKES = 10\n",
    "N_FAV_ARTISTS = 5\n",
    "SAMPLE_SIZE = 200\n",
    "EXTENDED = True\n",
    "\n",
    "FOR_TRAIN = True\n",
    "SRC_FN = TRAIN_FN if FOR_TRAIN else TEST_FN\n",
    "\n",
    "EXT_PREFIX = 'ext' if EXTENDED else ''\n",
    "DF_FN = (\n",
    "    f'df_'\n",
    "    f'{SRC_FN}_'\n",
    "    f'{FMP_WD}_'\n",
    "    f'{CUTOFF}_'\n",
    "    f'{MAX_SKIP}_'\n",
    "    f'{EXT_PREFIX}_'\n",
    "    f'{N_PREV_LIKES}_'\n",
    "    f'{N_FAV_ARTISTS}_'\n",
    "    f'{SAMPLE_SIZE}.csv'\n",
    ")\n",
    "\n",
    "WD = os.path.join('D:', 'education', 'yaintern', 'yandex_cup_2022', 'data')\n",
    "WD"
   ]
  },
  {
   "cell_type": "code",
   "execution_count": null,
   "id": "ddbd84d6",
   "metadata": {},
   "outputs": [],
   "source": [
    "g = DataFrameGenerator(\n",
    "    sampler=FMPSampler(\n",
    "        os.path.join(WD, 'fm', FMP_WD),\n",
    "        cutoff=CUTOFF,\n",
    "        max_skip=MAX_SKIP,\n",
    "        extended=EXTENDED),\n",
    "    options=GeneratorOptions(\n",
    "        n_prev_likes=N_PREV_LIKES,\n",
    "        n_fav_artists=N_FAV_ARTISTS,\n",
    "        sample_size=SAMPLE_SIZE,\n",
    "        for_train=FOR_TRAIN,\n",
    "    ),\n",
    "    converter=os.path.join(WD, ARTISTS_FN),\n",
    "    handler_cls=CSVDataFrameHandler,\n",
    "    handler_params={'filename': os.path.join(WD, DF_FN)},\n",
    ")"
   ]
  },
  {
   "cell_type": "code",
   "execution_count": null,
   "id": "83e5a9d1",
   "metadata": {},
   "outputs": [],
   "source": [
    "with open(os.path.join(WD, SRC_FN), 'rt') as f:\n",
    "    with g.begin():\n",
    "        for user_id, line in enumerate(f):\n",
    "            g.append(user_id, [t for t in line.strip().split(' ')])"
   ]
  },
  {
   "cell_type": "code",
   "execution_count": null,
   "id": "1775f659",
   "metadata": {},
   "outputs": [],
   "source": []
  }
 ],
 "metadata": {
  "kernelspec": {
   "display_name": "Python 3 (ipykernel)",
   "language": "python",
   "name": "python3"
  },
  "language_info": {
   "codemirror_mode": {
    "name": "ipython",
    "version": 3
   },
   "file_extension": ".py",
   "mimetype": "text/x-python",
   "name": "python",
   "nbconvert_exporter": "python",
   "pygments_lexer": "ipython3",
   "version": "3.9.13"
  }
 },
 "nbformat": 4,
 "nbformat_minor": 5
}
