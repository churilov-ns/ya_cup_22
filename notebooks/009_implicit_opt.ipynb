{
 "cells": [
  {
   "cell_type": "code",
   "execution_count": null,
   "id": "af9d94d5",
   "metadata": {},
   "outputs": [],
   "source": [
    "%env MKL_NUM_THREADS=1\n",
    "\n",
    "import os\n",
    "from functools import partial\n",
    "\n",
    "import numpy as np\n",
    "from scipy import sparse\n",
    "from sklearn.feature_extraction import text\n",
    "\n",
    "import implicit\n",
    "\n",
    "from ya_cup_2022.scoring import mrr_score"
   ]
  },
  {
   "cell_type": "code",
   "execution_count": null,
   "id": "78f28c51",
   "metadata": {},
   "outputs": [],
   "source": [
    "TRAIN_FN = 'train'\n",
    "TEST_FN = '_test_xxl'\n",
    "ANS_FN = '_ans_xxl'\n",
    "\n",
    "N = 100\n",
    "\n",
    "WD = os.path.join('D:', 'education', 'yaintern', 'yandex_cup_2022', 'data')\n",
    "WD"
   ]
  },
  {
   "cell_type": "code",
   "execution_count": null,
   "id": "bce4f87c",
   "metadata": {},
   "outputs": [],
   "source": [
    "def vectorize(frain_file, test_file):\n",
    "    vectorizer = text.CountVectorizer(lowercase=False, token_pattern=r'\\b\\d+\\b')\n",
    "    \n",
    "    with open(frain_file, 'rt') as f:\n",
    "        users = [line.strip() for line in f.readlines()]\n",
    "    \n",
    "    test_users_offset = len(users)\n",
    "    \n",
    "    with open(test_file, 'rt') as f:\n",
    "        users.extend(line.strip() for line in f.readlines())\n",
    "        \n",
    "    X = vectorizer.fit_transform(users)\n",
    "    return X, vectorizer, test_users_offset"
   ]
  },
  {
   "cell_type": "code",
   "execution_count": null,
   "id": "d15d819f",
   "metadata": {
    "scrolled": true
   },
   "outputs": [],
   "source": [
    "X, vectorizer, test_offset = vectorize(\n",
    "    os.path.join(WD, TRAIN_FN),\n",
    "    os.path.join(WD, TEST_FN),\n",
    ")\n",
    "\n",
    "X"
   ]
  },
  {
   "cell_type": "code",
   "execution_count": null,
   "id": "6f63aab5",
   "metadata": {},
   "outputs": [],
   "source": [
    "ind_2_track = dict()\n",
    "for track, ind in vectorizer.vocabulary_.items():\n",
    "    ind_2_track[ind] = track"
   ]
  },
  {
   "cell_type": "code",
   "execution_count": null,
   "id": "cf5c47f6",
   "metadata": {},
   "outputs": [],
   "source": [
    "with open(os.path.join(WD, ANS_FN), 'rt') as f:\n",
    "    y_true = [line.strip() for line in f.readlines()]"
   ]
  },
  {
   "cell_type": "code",
   "execution_count": null,
   "id": "0874243f",
   "metadata": {},
   "outputs": [],
   "source": [
    "model = implicit.bpr.BayesianPersonalizedRanking(\n",
    "    factors=100,\n",
    "#     alpha=100.0,\n",
    "#     regularization=10.0,\n",
    ")\n",
    "\n",
    "model.fit(X)\n",
    "recs = model.recommend(\n",
    "    list(range(test_offset, X.shape[0])),\n",
    "    X[test_offset:, :],\n",
    "    filter_already_liked_items=True,\n",
    "    N=N,\n",
    ")\n",
    "\n",
    "mrr_score(y_true, [[ind_2_track[i] for i in rec] for rec in recs[0]])"
   ]
  },
  {
   "cell_type": "code",
   "execution_count": null,
   "id": "02f2e35f",
   "metadata": {},
   "outputs": [],
   "source": []
  },
  {
   "cell_type": "raw",
   "id": "ca296874",
   "metadata": {},
   "source": [
    "def objective(trial, X, y_true):\n",
    "    model_cls = eval(trial.suggest_categorical('model_cls', [\n",
    "        'implicit.als.AlternatingLeastSquares', \n",
    "        'implicit.bpr.BayesianPersonalizedRanking',\n",
    "        'implicit.lmf.LogisticMatrixFactorization',\n",
    "    ]))\n",
    "    \n",
    "    params = {\n",
    "        'factors': trial.suggest_int('factors', 30, 100),\n",
    "        'regularization': trial.suggest_float('regularization', 0.01, 1000),\n",
    "    }\n",
    "    \n",
    "    if model_cls == implicit.als.AlternatingLeastSquares:\n",
    "        params['alpha'] = trial.suggest_float('alpha', 0.01, 100)\n",
    "    else:\n",
    "        params['learning_rate'] = trial.suggest_float('learning_rate', 0.001, 10)\n",
    "        \n",
    "    if model_cls == implicit.lmf.LogisticMatrixFactorization:\n",
    "        params['neg_prop'] = trial.suggest_int('neg_prop', 1, 100),\n",
    "    \n",
    "    model = model_cls(random_state=42, **params)\n",
    "    model.fit(X)\n",
    "    recs = model.recommend(\n",
    "        list(range(test_offset, X.shape[0])),\n",
    "        X[test_offset:, :],\n",
    "        filter_already_liked_items=True,\n",
    "        N=N,\n",
    "    )\n",
    "\n",
    "    return mrr_score(y_true, [[ind_2_track[i] for i in rec] for rec in recs[0]])"
   ]
  },
  {
   "cell_type": "code",
   "execution_count": null,
   "id": "1a55533c",
   "metadata": {},
   "outputs": [],
   "source": []
  }
 ],
 "metadata": {
  "kernelspec": {
   "display_name": "Python 3 (ipykernel)",
   "language": "python",
   "name": "python3"
  },
  "language_info": {
   "codemirror_mode": {
    "name": "ipython",
    "version": 3
   },
   "file_extension": ".py",
   "mimetype": "text/x-python",
   "name": "python",
   "nbconvert_exporter": "python",
   "pygments_lexer": "ipython3",
   "version": "3.9.13"
  }
 },
 "nbformat": 4,
 "nbformat_minor": 5
}
