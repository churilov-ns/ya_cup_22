{
 "cells": [
  {
   "cell_type": "code",
   "execution_count": 1,
   "id": "af9d94d5",
   "metadata": {},
   "outputs": [
    {
     "name": "stdout",
     "output_type": "stream",
     "text": [
      "env: MKL_NUM_THREADS=1\n"
     ]
    }
   ],
   "source": [
    "%env MKL_NUM_THREADS=1\n",
    "\n",
    "import os\n",
    "import numpy as np\n",
    "from scipy import sparse\n",
    "from sklearn.feature_extraction import text\n",
    "import implicit\n",
    "\n",
    "from ya_cup_2022.scoring import mrr_score"
   ]
  },
  {
   "cell_type": "code",
   "execution_count": 2,
   "id": "78f28c51",
   "metadata": {},
   "outputs": [
    {
     "data": {
      "text/plain": [
       "'D:education\\\\yaintern\\\\yandex_cup_2022\\\\data'"
      ]
     },
     "execution_count": 2,
     "metadata": {},
     "output_type": "execute_result"
    }
   ],
   "source": [
    "TRAIN_FN = 'train'\n",
    "# TEST_FN = '_test_xxl'\n",
    "# ANS_FN = '_ans_xxl'\n",
    "TEST_FN = 'test'\n",
    "ANS_FN = None\n",
    "\n",
    "# MODEL_CLS = implicit.als.AlternatingLeastSquares\n",
    "# MODEL_PARAMS = {'factors': 1000, 'alpha': 100, 'regularization': 10}\n",
    "# # MODEL_FN = '_als_xxl_f1000_a100_r10'\n",
    "# # PRED_FN = '_pred_xxl_als_f1000_a100_r10'\n",
    "# MODEL_FN = 'als_f1000_a100_r10'\n",
    "# PRED_FN = 'pred_als_f1000_a100_r10'\n",
    "\n",
    "MODEL_CLS = implicit.bpr.BayesianPersonalizedRanking\n",
    "MODEL_PARAMS = {'factors': 150, 'learning_rate': 0.01, 'regularization': 0.000001}\n",
    "MODEL_FN = 'bpr_f150_l01_r000001'\n",
    "PRED_FN = 'pred_bpr_f150_l01_r000001'\n",
    "\n",
    "N = 100\n",
    "\n",
    "WD = os.path.join('D:', 'education', 'yaintern', 'yandex_cup_2022', 'data')\n",
    "WD"
   ]
  },
  {
   "cell_type": "code",
   "execution_count": 3,
   "id": "bce4f87c",
   "metadata": {},
   "outputs": [],
   "source": [
    "def vectorize(frain_file, test_file):\n",
    "    vectorizer = text.CountVectorizer(lowercase=False, token_pattern=r'\\b\\d+\\b')\n",
    "    \n",
    "    with open(frain_file, 'rt') as f:\n",
    "        users = [line.strip() for line in f.readlines()]\n",
    "    \n",
    "    test_users_offset = len(users)\n",
    "    \n",
    "    with open(test_file, 'rt') as f:\n",
    "        users.extend(line.strip() for line in f.readlines())\n",
    "    \n",
    "    X = vectorizer.fit_transform(users)\n",
    "    return X, vectorizer, test_users_offset"
   ]
  },
  {
   "cell_type": "code",
   "execution_count": 4,
   "id": "d15d819f",
   "metadata": {},
   "outputs": [
    {
     "data": {
      "text/plain": [
       "<1449998x483275 sparse matrix of type '<class 'numpy.int64'>'\n",
       "\twith 117450834 stored elements in Compressed Sparse Row format>"
      ]
     },
     "execution_count": 4,
     "metadata": {},
     "output_type": "execute_result"
    }
   ],
   "source": [
    "X, vectorizer, test_offset = vectorize(\n",
    "    os.path.join(WD, TRAIN_FN),\n",
    "    os.path.join(WD, TEST_FN),\n",
    ")\n",
    "\n",
    "X"
   ]
  },
  {
   "cell_type": "code",
   "execution_count": 5,
   "id": "6f63aab5",
   "metadata": {},
   "outputs": [],
   "source": [
    "ind_2_track = dict()\n",
    "for track, ind in vectorizer.vocabulary_.items():\n",
    "    ind_2_track[ind] = track"
   ]
  },
  {
   "cell_type": "code",
   "execution_count": 6,
   "id": "554160ca",
   "metadata": {},
   "outputs": [
    {
     "data": {
      "application/vnd.jupyter.widget-view+json": {
       "model_id": "35e214c2b54246f8911210e13f1055d4",
       "version_major": 2,
       "version_minor": 0
      },
      "text/plain": [
       "  0%|          | 0/100 [00:00<?, ?it/s]"
      ]
     },
     "metadata": {},
     "output_type": "display_data"
    }
   ],
   "source": [
    "model_path = os.path.join(WD, MODEL_FN)\n",
    "if os.path.exists(model_path):\n",
    "    model = MODEL_CLS.load(model_path)\n",
    "else:\n",
    "    model = MODEL_CLS(random_state=42, **MODEL_PARAMS)\n",
    "    model.fit(X)\n",
    "#     model.save(model_path)"
   ]
  },
  {
   "cell_type": "code",
   "execution_count": 7,
   "id": "f93b8132",
   "metadata": {},
   "outputs": [],
   "source": [
    "user_ids = list(range(test_offset, X.shape[0]))\n",
    "recs = model.recommend(\n",
    "    user_ids,\n",
    "    X[test_offset:, :],\n",
    "    filter_already_liked_items=True,\n",
    "    N=N,\n",
    ")\n",
    "\n",
    "y_pred = [[ind_2_track[i] for i in rec] for rec in recs[0]]"
   ]
  },
  {
   "cell_type": "code",
   "execution_count": 8,
   "id": "7fb98597",
   "metadata": {},
   "outputs": [],
   "source": [
    "if ANS_FN is not None:\n",
    "    with open(os.path.join(WD, ANS_FN), 'rt') as f:\n",
    "        y_true = [line.strip() for line in f.readlines()]\n",
    "        print(mrr_score(y_true, y_pred))"
   ]
  },
  {
   "cell_type": "code",
   "execution_count": 9,
   "id": "4bb747c7",
   "metadata": {},
   "outputs": [],
   "source": [
    "with open(os.path.join(WD, PRED_FN), 'wt') as f:\n",
    "    for tracks in y_pred:\n",
    "        f.write(f'{\" \".join(tracks)}\\n')"
   ]
  },
  {
   "cell_type": "code",
   "execution_count": null,
   "id": "14fbd06a",
   "metadata": {},
   "outputs": [],
   "source": []
  }
 ],
 "metadata": {
  "kernelspec": {
   "display_name": "Python 3 (ipykernel)",
   "language": "python",
   "name": "python3"
  },
  "language_info": {
   "codemirror_mode": {
    "name": "ipython",
    "version": 3
   },
   "file_extension": ".py",
   "mimetype": "text/x-python",
   "name": "python",
   "nbconvert_exporter": "python",
   "pygments_lexer": "ipython3",
   "version": "3.9.13"
  }
 },
 "nbformat": 4,
 "nbformat_minor": 5
}
