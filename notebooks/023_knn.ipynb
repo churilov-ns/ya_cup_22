{
 "cells": [
  {
   "cell_type": "code",
   "execution_count": 1,
   "id": "53427d61",
   "metadata": {},
   "outputs": [],
   "source": [
    "import os\n",
    "\n",
    "from sklearn.feature_extraction.text import (\n",
    "    CountVectorizer,\n",
    "    TfidfVectorizer,\n",
    ")\n",
    "\n",
    "from ya_cup_2022.knn import KNNModel"
   ]
  },
  {
   "cell_type": "code",
   "execution_count": 2,
   "id": "8c0c619c",
   "metadata": {},
   "outputs": [
    {
     "data": {
      "text/plain": [
       "'D:education\\\\yaintern\\\\yandex_cup_2022\\\\data'"
      ]
     },
     "execution_count": 2,
     "metadata": {},
     "output_type": "execute_result"
    }
   ],
   "source": [
    "ARTISTS_FN = None  # 'track_artists.csv'\n",
    "\n",
    "VEC_CLS = CountVectorizer  #TfidfVectorizer\n",
    "\n",
    "INDEX_S = 'cosinesimil_sparse_fast'\n",
    "INDEX_M = 50\n",
    "INDEX_EFC = 500\n",
    "INDEX_P = 2\n",
    "QUERY_EFS = 500\n",
    "\n",
    "TRAIN_FN = '_train_s'\n",
    "K = 30\n",
    "\n",
    "N = 100\n",
    "\n",
    "TA_MRK = 't' if ARTISTS_FN is None else 'a'\n",
    "VR_MRK = 'tfidf' if VEC_CLS == TfidfVectorizer else 'cv'\n",
    "SUFFIX = f'{TRAIN_FN}-{VR_MRK}-s{INDEX_S}-m{INDEX_M}-efc{INDEX_EFC}-p{INDEX_P}-{TA_MRK}'\n",
    "\n",
    "TEST_FN = '_test_xxl_1k'\n",
    "PRED_FN = f'_pred_xxl_1k_knn_{SUFFIX}-efs{QUERY_EFS}_@{N}'\n",
    "INDEX_FN = f'nmslib_index_{SUFFIX}'\n",
    "\n",
    "WD = os.path.join('D:', 'education', 'yaintern', 'yandex_cup_2022', 'data')\n",
    "WD"
   ]
  },
  {
   "cell_type": "code",
   "execution_count": 3,
   "id": "40f8290e",
   "metadata": {},
   "outputs": [
    {
     "name": "stdout",
     "output_type": "stream",
     "text": [
      " ---> Fitting KNN model\n",
      "Reading file: D:education\\yaintern\\yandex_cup_2022\\data\\_train_s\n",
      "Fitting CV\n",
      "Space dimension: 70000 x 372579\n",
      "Fitting NN\n",
      " ---> KNN model fit finished\n"
     ]
    }
   ],
   "source": [
    "track_artist_file = None\n",
    "if ARTISTS_FN is not None:\n",
    "    track_artist_file = os.path.join(WD, ARTISTS_FN)\n",
    "\n",
    "model = KNNModel(\n",
    "    vec_cls=VEC_CLS,\n",
    "    n_neighbors=K,\n",
    "    space=INDEX_S,\n",
    "    index_params={'M': INDEX_M, 'efConstruction': INDEX_EFC, 'post': INDEX_P},\n",
    "    query_params={'efSearch': QUERY_EFS},\n",
    "    num_threads=12,\n",
    "    track_artist_file=track_artist_file,\n",
    ")\n",
    "\n",
    "index_path = os.path.join(WD, INDEX_FN)\n",
    "index_exists = os.path.exists(index_path)\n",
    "\n",
    "model.fit(\n",
    "    os.path.join(WD, TRAIN_FN),\n",
    "    index_file=index_path if index_exists else None)\n",
    "\n",
    "if not index_exists:\n",
    "    model.index.saveIndex(index_path, save_data=True)"
   ]
  },
  {
   "cell_type": "code",
   "execution_count": 4,
   "id": "7c14bbc8",
   "metadata": {
    "scrolled": true
   },
   "outputs": [],
   "source": [
    "with open(os.path.join(WD, TEST_FN), 'rt') as f_test:\n",
    "    queries = [line.strip() for line in f_test]"
   ]
  },
  {
   "cell_type": "code",
   "execution_count": 5,
   "id": "7f0f2686",
   "metadata": {},
   "outputs": [],
   "source": [
    "with open(os.path.join(WD, PRED_FN), 'wt') as f_pred:\n",
    "    for preds in model.batch_predict(queries, cutoff=N):\n",
    "        f_pred.write(f'{\" \".join(p.track for p in preds)}\\n')"
   ]
  }
 ],
 "metadata": {
  "kernelspec": {
   "display_name": "Python 3 (ipykernel)",
   "language": "python",
   "name": "python3"
  },
  "language_info": {
   "codemirror_mode": {
    "name": "ipython",
    "version": 3
   },
   "file_extension": ".py",
   "mimetype": "text/x-python",
   "name": "python",
   "nbconvert_exporter": "python",
   "pygments_lexer": "ipython3",
   "version": "3.9.13"
  }
 },
 "nbformat": 4,
 "nbformat_minor": 5
}
