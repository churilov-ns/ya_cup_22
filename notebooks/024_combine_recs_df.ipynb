{
 "cells": [
  {
   "cell_type": "code",
   "execution_count": 1,
   "id": "9ed6f8f4",
   "metadata": {},
   "outputs": [],
   "source": [
    "import os\n",
    "from ya_cup_2022.stacking import combine_df"
   ]
  },
  {
   "cell_type": "code",
   "execution_count": 2,
   "id": "25513d83",
   "metadata": {},
   "outputs": [
    {
     "data": {
      "text/plain": [
       "'D:education\\\\yaintern\\\\yandex_cup_2022\\\\data'"
      ]
     },
     "execution_count": 2,
     "metadata": {},
     "output_type": "execute_result"
    }
   ],
   "source": [
    "ANS_FN = '_ans_xxl'\n",
    "MODELS = [\n",
    "    '_pred_xxl_als_f1000_a100_r10_@300',\n",
    "    '_pred_xxl_knn_train-cv-scosinesimil_sparse_fast-m100-efc500-p2-t-efs500-k100_@300',\n",
    "    '_pred_xxl_wfm_r_xxl_train_only_1000_5_@300',\n",
    "]\n",
    "\n",
    "\n",
    "DF_FN = '_pred_xxl_combined_wfm_als_knn.csv'\n",
    "\n",
    "\n",
    "WD = os.path.join('D:', 'education', 'yaintern', 'yandex_cup_2022', 'data')\n",
    "WD"
   ]
  },
  {
   "cell_type": "code",
   "execution_count": 3,
   "id": "919d300f",
   "metadata": {},
   "outputs": [
    {
     "name": "stdout",
     "output_type": "stream",
     "text": [
      "Blank object in D:education\\yaintern\\yandex_cup_2022\\data\\_pred_xxl_knn_train-cv-scosinesimil_sparse_fast-m100-efc500-p2-t-efs500-k100_@300, line 2872 at pos 0\n",
      "Blank object in D:education\\yaintern\\yandex_cup_2022\\data\\_pred_xxl_knn_train-cv-scosinesimil_sparse_fast-m100-efc500-p2-t-efs500-k100_@300, line 10387 at pos 0\n",
      "Blank object in D:education\\yaintern\\yandex_cup_2022\\data\\_pred_xxl_knn_train-cv-scosinesimil_sparse_fast-m100-efc500-p2-t-efs500-k100_@300, line 31452 at pos 0\n",
      "Blank object in D:education\\yaintern\\yandex_cup_2022\\data\\_pred_xxl_knn_train-cv-scosinesimil_sparse_fast-m100-efc500-p2-t-efs500-k100_@300, line 38842 at pos 0\n",
      "Blank object in D:education\\yaintern\\yandex_cup_2022\\data\\_pred_xxl_knn_train-cv-scosinesimil_sparse_fast-m100-efc500-p2-t-efs500-k100_@300, line 43995 at pos 0\n",
      "Blank object in D:education\\yaintern\\yandex_cup_2022\\data\\_pred_xxl_knn_train-cv-scosinesimil_sparse_fast-m100-efc500-p2-t-efs500-k100_@300, line 49662 at pos 0\n",
      "Blank object in D:education\\yaintern\\yandex_cup_2022\\data\\_pred_xxl_knn_train-cv-scosinesimil_sparse_fast-m100-efc500-p2-t-efs500-k100_@300, line 58284 at pos 0\n",
      "Blank object in D:education\\yaintern\\yandex_cup_2022\\data\\_pred_xxl_knn_train-cv-scosinesimil_sparse_fast-m100-efc500-p2-t-efs500-k100_@300, line 82983 at pos 0\n",
      "Blank object in D:education\\yaintern\\yandex_cup_2022\\data\\_pred_xxl_knn_train-cv-scosinesimil_sparse_fast-m100-efc500-p2-t-efs500-k100_@300, line 89491 at pos 0\n",
      "Blank object in D:education\\yaintern\\yandex_cup_2022\\data\\_pred_xxl_knn_train-cv-scosinesimil_sparse_fast-m100-efc500-p2-t-efs500-k100_@300, line 92209 at pos 0\n",
      "Blank object in D:education\\yaintern\\yandex_cup_2022\\data\\_pred_xxl_knn_train-cv-scosinesimil_sparse_fast-m100-efc500-p2-t-efs500-k100_@300, line 102894 at pos 0\n",
      "Blank object in D:education\\yaintern\\yandex_cup_2022\\data\\_pred_xxl_knn_train-cv-scosinesimil_sparse_fast-m100-efc500-p2-t-efs500-k100_@300, line 103245 at pos 0\n",
      "Blank object in D:education\\yaintern\\yandex_cup_2022\\data\\_pred_xxl_knn_train-cv-scosinesimil_sparse_fast-m100-efc500-p2-t-efs500-k100_@300, line 131199 at pos 0\n",
      "Blank object in D:education\\yaintern\\yandex_cup_2022\\data\\_pred_xxl_knn_train-cv-scosinesimil_sparse_fast-m100-efc500-p2-t-efs500-k100_@300, line 138598 at pos 0\n",
      "Blank object in D:education\\yaintern\\yandex_cup_2022\\data\\_pred_xxl_knn_train-cv-scosinesimil_sparse_fast-m100-efc500-p2-t-efs500-k100_@300, line 147985 at pos 0\n",
      "Blank object in D:education\\yaintern\\yandex_cup_2022\\data\\_pred_xxl_knn_train-cv-scosinesimil_sparse_fast-m100-efc500-p2-t-efs500-k100_@300, line 156642 at pos 0\n",
      "Blank object in D:education\\yaintern\\yandex_cup_2022\\data\\_pred_xxl_knn_train-cv-scosinesimil_sparse_fast-m100-efc500-p2-t-efs500-k100_@300, line 161554 at pos 0\n",
      "Blank object in D:education\\yaintern\\yandex_cup_2022\\data\\_pred_xxl_knn_train-cv-scosinesimil_sparse_fast-m100-efc500-p2-t-efs500-k100_@300, line 165708 at pos 0\n",
      "Blank object in D:education\\yaintern\\yandex_cup_2022\\data\\_pred_xxl_knn_train-cv-scosinesimil_sparse_fast-m100-efc500-p2-t-efs500-k100_@300, line 183132 at pos 0\n",
      "Blank object in D:education\\yaintern\\yandex_cup_2022\\data\\_pred_xxl_knn_train-cv-scosinesimil_sparse_fast-m100-efc500-p2-t-efs500-k100_@300, line 190149 at pos 0\n",
      "Blank object in D:education\\yaintern\\yandex_cup_2022\\data\\_pred_xxl_knn_train-cv-scosinesimil_sparse_fast-m100-efc500-p2-t-efs500-k100_@300, line 195785 at pos 0\n",
      "Blank object in D:education\\yaintern\\yandex_cup_2022\\data\\_pred_xxl_knn_train-cv-scosinesimil_sparse_fast-m100-efc500-p2-t-efs500-k100_@300, line 207358 at pos 0\n",
      "Blank object in D:education\\yaintern\\yandex_cup_2022\\data\\_pred_xxl_knn_train-cv-scosinesimil_sparse_fast-m100-efc500-p2-t-efs500-k100_@300, line 213219 at pos 0\n",
      "Blank object in D:education\\yaintern\\yandex_cup_2022\\data\\_pred_xxl_knn_train-cv-scosinesimil_sparse_fast-m100-efc500-p2-t-efs500-k100_@300, line 220574 at pos 0\n",
      "Blank object in D:education\\yaintern\\yandex_cup_2022\\data\\_pred_xxl_knn_train-cv-scosinesimil_sparse_fast-m100-efc500-p2-t-efs500-k100_@300, line 222689 at pos 0\n",
      "Blank object in D:education\\yaintern\\yandex_cup_2022\\data\\_pred_xxl_knn_train-cv-scosinesimil_sparse_fast-m100-efc500-p2-t-efs500-k100_@300, line 234239 at pos 0\n",
      "Blank object in D:education\\yaintern\\yandex_cup_2022\\data\\_pred_xxl_knn_train-cv-scosinesimil_sparse_fast-m100-efc500-p2-t-efs500-k100_@300, line 244258 at pos 0\n",
      "Blank object in D:education\\yaintern\\yandex_cup_2022\\data\\_pred_xxl_knn_train-cv-scosinesimil_sparse_fast-m100-efc500-p2-t-efs500-k100_@300, line 253346 at pos 0\n",
      "Blank object in D:education\\yaintern\\yandex_cup_2022\\data\\_pred_xxl_knn_train-cv-scosinesimil_sparse_fast-m100-efc500-p2-t-efs500-k100_@300, line 259048 at pos 0\n",
      "Blank object in D:education\\yaintern\\yandex_cup_2022\\data\\_pred_xxl_knn_train-cv-scosinesimil_sparse_fast-m100-efc500-p2-t-efs500-k100_@300, line 266732 at pos 0\n",
      "Blank object in D:education\\yaintern\\yandex_cup_2022\\data\\_pred_xxl_knn_train-cv-scosinesimil_sparse_fast-m100-efc500-p2-t-efs500-k100_@300, line 288326 at pos 0\n",
      "Blank object in D:education\\yaintern\\yandex_cup_2022\\data\\_pred_xxl_knn_train-cv-scosinesimil_sparse_fast-m100-efc500-p2-t-efs500-k100_@300, line 288393 at pos 0\n",
      "# users: 289914\n",
      "# misses: 133098 (45.909476603406524 %)\n"
     ]
    }
   ],
   "source": [
    "combine_df(\n",
    "    os.path.join(WD, DF_FN),\n",
    "    os.path.join(WD, ANS_FN),\n",
    "    *[os.path.join(WD, m) for m in MODELS],\n",
    ")"
   ]
  },
  {
   "cell_type": "code",
   "execution_count": null,
   "id": "7da6880e",
   "metadata": {},
   "outputs": [],
   "source": []
  }
 ],
 "metadata": {
  "kernelspec": {
   "display_name": "Python 3 (ipykernel)",
   "language": "python",
   "name": "python3"
  },
  "language_info": {
   "codemirror_mode": {
    "name": "ipython",
    "version": 3
   },
   "file_extension": ".py",
   "mimetype": "text/x-python",
   "name": "python",
   "nbconvert_exporter": "python",
   "pygments_lexer": "ipython3",
   "version": "3.9.13"
  }
 },
 "nbformat": 4,
 "nbformat_minor": 5
}
