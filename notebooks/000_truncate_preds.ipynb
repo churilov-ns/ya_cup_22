{
 "cells": [
  {
   "cell_type": "code",
   "execution_count": 1,
   "id": "fc939762",
   "metadata": {},
   "outputs": [],
   "source": [
    "import os\n",
    "from ya_cup_2022.frequency import AbsFrequencyModel"
   ]
  },
  {
   "cell_type": "code",
   "execution_count": 2,
   "id": "caf5dce5",
   "metadata": {},
   "outputs": [
    {
     "data": {
      "text/plain": [
       "'D:education\\\\yaintern\\\\yandex_cup_2022\\\\data'"
      ]
     },
     "execution_count": 2,
     "metadata": {},
     "output_type": "execute_result"
    }
   ],
   "source": [
    "# IN_FN = 'pred_als_f1000_a100_r10_@300'\n",
    "# OUT_FN = 'pred_als_f1000_a100_r10_@100'\n",
    "\n",
    "# IN_FN = 'pred_knn_train-cv-scosinesimil_sparse_fast-m100-efc500-p2-t-efs500-k100_@300'\n",
    "# OUT_FN = 'pred_knn_train-cv-scosinesimil_sparse_fast-m100-efc500-p2-t-efs500-k100_@100'\n",
    "\n",
    "# IN_FN = 'pred_wfm_n_xxl_100_3_@300'\n",
    "# OUT_FN = 'pred_wfm_n_xxl_100_3_@100'\n",
    "\n",
    "IN_FN = 'pred_wfm_n_xxl_1000_5_@300'\n",
    "OUT_FN = 'pred_wfm_n_xxl_1000_5_@100'\n",
    "\n",
    "CUTOFF = 100\n",
    "\n",
    "WD = os.path.join('D:', 'education', 'yaintern', 'yandex_cup_2022', 'data')\n",
    "WD"
   ]
  },
  {
   "cell_type": "code",
   "execution_count": 3,
   "id": "0694d70a",
   "metadata": {},
   "outputs": [],
   "source": [
    "afm = AbsFrequencyModel.load_model(\n",
    "    os.path.join(WD, 'fm', 'xxl_train_only', 'abs'),\n",
    "    normalized=False,\n",
    ")\n",
    "\n",
    "popular_tracks = [i.track for i in afm.predict_top(cutoff=CUTOFF)]"
   ]
  },
  {
   "cell_type": "code",
   "execution_count": 4,
   "id": "cc73f8e1",
   "metadata": {},
   "outputs": [],
   "source": [
    "with open(os.path.join(WD, IN_FN), 'rt') as f_in:\n",
    "    with open(os.path.join(WD, OUT_FN), 'wt') as f_out:\n",
    "        for line in f_in:\n",
    "            tracks = [t for t in line.strip().split(' ')\n",
    "                      if len(t) > 0]\n",
    "            tracks.extend(popular_tracks)\n",
    "            f_out.write(f'{\" \".join(tracks[:CUTOFF])}\\n')"
   ]
  },
  {
   "cell_type": "code",
   "execution_count": null,
   "id": "f896adf4",
   "metadata": {},
   "outputs": [],
   "source": []
  }
 ],
 "metadata": {
  "kernelspec": {
   "display_name": "Python 3 (ipykernel)",
   "language": "python",
   "name": "python3"
  },
  "language_info": {
   "codemirror_mode": {
    "name": "ipython",
    "version": 3
   },
   "file_extension": ".py",
   "mimetype": "text/x-python",
   "name": "python",
   "nbconvert_exporter": "python",
   "pygments_lexer": "ipython3",
   "version": "3.9.13"
  }
 },
 "nbformat": 4,
 "nbformat_minor": 5
}
