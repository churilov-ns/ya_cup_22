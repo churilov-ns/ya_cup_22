{
 "cells": [
  {
   "cell_type": "code",
   "execution_count": 1,
   "id": "7b963d48",
   "metadata": {},
   "outputs": [],
   "source": [
    "import os\n",
    "from ya_cup_2022.stacking import InputFile, combine_predictions"
   ]
  },
  {
   "cell_type": "code",
   "execution_count": 2,
   "id": "af47a232",
   "metadata": {},
   "outputs": [
    {
     "data": {
      "text/plain": [
       "'D:education\\\\yaintern\\\\yandex_cup_2022\\\\data'"
      ]
     },
     "execution_count": 2,
     "metadata": {},
     "output_type": "execute_result"
    }
   ],
   "source": [
    "# COMB_FN = '_pred_xxl_combined_wfm_als_knn_4'\n",
    "# PRED_FS = [\n",
    "#     ('_pred_xxl_als_f1000_a100_r10_@300', 0.263),\n",
    "#     ('_pred_xxl_wfm_n_xxl_train_only_100_3_@300', 0.407),\n",
    "#     ('_pred_xxl_knn_train-cv-scosinesimil_sparse_fast-m100-efc500-p2-t-efs500-k100_@300', 0.329),\n",
    "# ]\n",
    "\n",
    "# COMB_FN = '_pred_xxl_combined_wfm_als_knn_5'\n",
    "# PRED_FS = [\n",
    "#     ('_pred_xxl_als_f1000_a100_r10_@300', 0.262),\n",
    "#     ('_pred_xxl_wfm_n_xxl_train_only_1000_5_@300', 0.411),\n",
    "#     ('_pred_xxl_knn_train-cv-scosinesimil_sparse_fast-m100-efc500-p2-t-efs500-k100_@300', 0.327),\n",
    "# ]\n",
    "\n",
    "# COMB_FN = 'pred_combined_wfm_als_knn_4'\n",
    "# PRED_FS = [\n",
    "#     ('pred_als_f1000_a100_r10_@300', 0.264),\n",
    "#     ('pred_wfm_n_xxl_100_3_@300', 0.400),\n",
    "#     ('pred_knn_train-cv-scosinesimil_sparse_fast-m100-efc500-p2-t-efs500-k100_@300', 0.336),\n",
    "# ]\n",
    "\n",
    "COMB_FN = 'pred_combined_wfm_als_knn_5'\n",
    "PRED_FS = [\n",
    "    ('pred_als_f1000_a100_r10_@300', 0.262),\n",
    "    ('pred_wfm_n_xxl_1000_5_@300', 0.404),\n",
    "    ('pred_knn_train-cv-scosinesimil_sparse_fast-m100-efc500-p2-t-efs500-k100_@300', 0.334),\n",
    "]\n",
    "\n",
    "N = 100\n",
    "\n",
    "WD = os.path.join('D:', 'education', 'yaintern', 'yandex_cup_2022', 'data')\n",
    "WD"
   ]
  },
  {
   "cell_type": "code",
   "execution_count": 3,
   "id": "499f6c83",
   "metadata": {},
   "outputs": [],
   "source": [
    "combine_predictions(\n",
    "    os.path.join(WD, COMB_FN),\n",
    "    [InputFile(os.path.join(WD, f[0]), f[1]) for f in PRED_FS],\n",
    "    n=N,\n",
    ")"
   ]
  }
 ],
 "metadata": {
  "kernelspec": {
   "display_name": "Python 3 (ipykernel)",
   "language": "python",
   "name": "python3"
  },
  "language_info": {
   "codemirror_mode": {
    "name": "ipython",
    "version": 3
   },
   "file_extension": ".py",
   "mimetype": "text/x-python",
   "name": "python",
   "nbconvert_exporter": "python",
   "pygments_lexer": "ipython3",
   "version": "3.9.13"
  }
 },
 "nbformat": 4,
 "nbformat_minor": 5
}
