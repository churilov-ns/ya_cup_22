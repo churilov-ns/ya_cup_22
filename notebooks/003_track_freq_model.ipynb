{
 "cells": [
  {
   "cell_type": "code",
   "execution_count": 1,
   "id": "66b0eb0e",
   "metadata": {},
   "outputs": [],
   "source": [
    "import os\n",
    "from ya_cup_2022.frequency import (\n",
    "    FrequencyDataGenerator,\n",
    "    FrequencyModelPool,\n",
    ")"
   ]
  },
  {
   "cell_type": "code",
   "execution_count": 2,
   "id": "b46f13d5",
   "metadata": {},
   "outputs": [
    {
     "data": {
      "text/plain": [
       "'D:education\\\\yaintern\\\\yandex_cup_2022\\\\data'"
      ]
     },
     "execution_count": 2,
     "metadata": {},
     "output_type": "execute_result"
    }
   ],
   "source": [
    "# GEN_FILES = ['train', 'test']\n",
    "GEN_FILES = ['train']\n",
    "GEN_WD = 'xxl'\n",
    "CUTOFF = 100\n",
    "MAX_SKIP = 3\n",
    "\n",
    "NORMALIZED = True\n",
    "N = 300\n",
    "\n",
    "TEST_FN = 'test'\n",
    "NORM_PREFIX = 'n' if NORMALIZED else 'r'\n",
    "PRED_FN = f'pred_wfm_{NORM_PREFIX}_{GEN_WD}_{CUTOFF}_{MAX_SKIP}_@{N}'\n",
    "\n",
    "WD = os.path.join('D:', 'education', 'yaintern', 'yandex_cup_2022', 'data')\n",
    "WD"
   ]
  },
  {
   "cell_type": "raw",
   "id": "5149a6f8",
   "metadata": {},
   "source": [
    "g = FrequencyDataGenerator(os.path.join(WD, 'fm', GEN_WD), MAX_SKIP, MAX_N)\n",
    "g.generate(*[os.path.join(WD, f) for f in GEN_FILES])"
   ]
  },
  {
   "cell_type": "code",
   "execution_count": 3,
   "id": "81db4c30",
   "metadata": {},
   "outputs": [
    {
     "name": "stdout",
     "output_type": "stream",
     "text": [
      "Loading frequency model pool\n",
      "Loading model from file D:education\\yaintern\\yandex_cup_2022\\data\\fm\\xxl\\abs\n",
      "Loading model from file D:education\\yaintern\\yandex_cup_2022\\data\\fm\\xxl\\rel_0\n",
      "Loading model from file D:education\\yaintern\\yandex_cup_2022\\data\\fm\\xxl\\rel_1\n",
      "Loading model from file D:education\\yaintern\\yandex_cup_2022\\data\\fm\\xxl\\rel_2\n",
      "Loading model from file D:education\\yaintern\\yandex_cup_2022\\data\\fm\\xxl\\rel_3\n",
      "Loading weights from file D:education\\yaintern\\yandex_cup_2022\\data\\fm\\xxl\\__weights__\n",
      "Frequency model pool loaded\n"
     ]
    }
   ],
   "source": [
    "fmp = FrequencyModelPool.load(\n",
    "    os.path.join(WD, 'fm', GEN_WD), \n",
    "    cutoff=CUTOFF, \n",
    "    max_skip=MAX_SKIP,\n",
    "    normalized=NORMALIZED,\n",
    ")"
   ]
  },
  {
   "cell_type": "code",
   "execution_count": 4,
   "id": "c8cd5292",
   "metadata": {},
   "outputs": [],
   "source": [
    "popular_tracks = [i.track for i in fmp.predict_top(cutoff=N)]\n",
    "with open(os.path.join(WD, PRED_FN), 'wt') as f_pred:\n",
    "    with open(os.path.join(WD, TEST_FN), 'rt') as f_test:\n",
    "        for line in f_test:\n",
    "            tracks = [x for x in line.strip().split(' ')]\n",
    "            preds = [\n",
    "                i.track for i in \n",
    "                fmp.predict_rel_top(\n",
    "                    tracks, \n",
    "                    cutoff=CUTOFF, \n",
    "                    max_skip=MAX_SKIP,\n",
    "                )\n",
    "            ]\n",
    "            \n",
    "            preds = (preds + popular_tracks)[:N]\n",
    "            f_pred.write(f'{\" \".join(preds)}\\n')"
   ]
  },
  {
   "cell_type": "code",
   "execution_count": null,
   "id": "f6f0dc13",
   "metadata": {},
   "outputs": [],
   "source": []
  }
 ],
 "metadata": {
  "kernelspec": {
   "display_name": "Python 3 (ipykernel)",
   "language": "python",
   "name": "python3"
  },
  "language_info": {
   "codemirror_mode": {
    "name": "ipython",
    "version": 3
   },
   "file_extension": ".py",
   "mimetype": "text/x-python",
   "name": "python",
   "nbconvert_exporter": "python",
   "pygments_lexer": "ipython3",
   "version": "3.9.13"
  }
 },
 "nbformat": 4,
 "nbformat_minor": 5
}
