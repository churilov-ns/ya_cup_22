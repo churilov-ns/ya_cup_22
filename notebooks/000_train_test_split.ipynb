{
 "cells": [
  {
   "cell_type": "code",
   "execution_count": 1,
   "id": "d593299e",
   "metadata": {},
   "outputs": [],
   "source": [
    "import os\n",
    "import random"
   ]
  },
  {
   "cell_type": "code",
   "execution_count": 2,
   "id": "eda7f5cc",
   "metadata": {},
   "outputs": [
    {
     "data": {
      "text/plain": [
       "'D:education\\\\yaintern\\\\yandex_cup_2022\\\\data'"
      ]
     },
     "execution_count": 2,
     "metadata": {},
     "output_type": "execute_result"
    }
   ],
   "source": [
    "MAX_OBJECTS = 300000\n",
    "TEST_SIZE = 0\n",
    "\n",
    "SRC_FN = 'train'\n",
    "TRAIN_FN = '_train_300k'\n",
    "TEST_FN = '_test_'\n",
    "ANS_FN = '_ans_'\n",
    "\n",
    "WD = os.path.join('D:', 'education', 'yaintern', 'yandex_cup_2022', 'data')\n",
    "WD"
   ]
  },
  {
   "cell_type": "code",
   "execution_count": 3,
   "id": "1684c6e3",
   "metadata": {},
   "outputs": [
    {
     "data": {
      "text/plain": [
       "1160084"
      ]
     },
     "execution_count": 3,
     "metadata": {},
     "output_type": "execute_result"
    }
   ],
   "source": [
    "objects = list()\n",
    "with open(os.path.join(WD, SRC_FN), 'rt') as f:\n",
    "    for line in f.readlines():\n",
    "        objects.append(line.strip())\n",
    "\n",
    "n_objects = len(objects)\n",
    "n_objects"
   ]
  },
  {
   "cell_type": "code",
   "execution_count": 4,
   "id": "fde9863a",
   "metadata": {},
   "outputs": [
    {
     "data": {
      "text/plain": [
       "300000"
      ]
     },
     "execution_count": 4,
     "metadata": {},
     "output_type": "execute_result"
    }
   ],
   "source": [
    "random.seed = 42\n",
    "if MAX_OBJECTS is not None:\n",
    "    selected_ids = set(random.sample(range(n_objects), MAX_OBJECTS))\n",
    "    selected_objects = list()\n",
    "    for i, obj in enumerate(objects):\n",
    "        if i in selected_ids:\n",
    "            selected_objects.append(obj)\n",
    "    \n",
    "    objects = selected_objects\n",
    "    n_objects = len(objects)\n",
    "\n",
    "n_objects"
   ]
  },
  {
   "cell_type": "code",
   "execution_count": 5,
   "id": "f19f0b0a",
   "metadata": {},
   "outputs": [],
   "source": [
    "n_test_objects = int(n_objects * TEST_SIZE)\n",
    "test_objects_ids = set(random.sample(range(n_objects), n_test_objects))\n",
    "\n",
    "try:\n",
    "    f_train = open(os.path.join(WD, TRAIN_FN), 'wt')\n",
    "    f_test = open(os.path.join(WD, TEST_FN), 'wt')\n",
    "    f_ans = open(os.path.join(WD, ANS_FN), 'wt')\n",
    "    for i, obj in enumerate(objects):\n",
    "        if i in test_objects_ids:\n",
    "            tracks = obj.split(' ')\n",
    "            f_ans.write(f'{tracks.pop()}\\n')\n",
    "            f_test.write(f'{\" \".join(tracks)}\\n')\n",
    "        else:\n",
    "            f_train.write(f'{obj}\\n')\n",
    "finally:\n",
    "    f_train.close()\n",
    "    f_test.close()\n",
    "    f_ans.close()"
   ]
  },
  {
   "cell_type": "code",
   "execution_count": null,
   "id": "22e364a1",
   "metadata": {},
   "outputs": [],
   "source": []
  }
 ],
 "metadata": {
  "kernelspec": {
   "display_name": "Python 3 (ipykernel)",
   "language": "python",
   "name": "python3"
  },
  "language_info": {
   "codemirror_mode": {
    "name": "ipython",
    "version": 3
   },
   "file_extension": ".py",
   "mimetype": "text/x-python",
   "name": "python",
   "nbconvert_exporter": "python",
   "pygments_lexer": "ipython3",
   "version": "3.9.13"
  }
 },
 "nbformat": 4,
 "nbformat_minor": 5
}
